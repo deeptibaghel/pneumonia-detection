{
  "nbformat": 4,
  "nbformat_minor": 0,
  "metadata": {
    "colab": {
      "name": "Capstone_CV_3.ipynb",
      "provenance": [],
      "collapsed_sections": [],
      "machine_shape": "hm"
    },
    "kernelspec": {
      "name": "python3",
      "display_name": "Python 3"
    },
    "language_info": {
      "name": "python"
    },
    "accelerator": "GPU"
  },
  "cells": [
    {
      "cell_type": "code",
      "metadata": {
        "colab": {
          "base_uri": "https://localhost:8080/"
        },
        "id": "beFc2c25F80e",
        "outputId": "337990f0-100a-4746-e5b4-445685eeb4ab"
      },
      "source": [
        "from google.colab import drive\n",
        "drive.mount('/content/gdrive')"
      ],
      "execution_count": 1,
      "outputs": [
        {
          "output_type": "stream",
          "name": "stdout",
          "text": [
            "Drive already mounted at /content/gdrive; to attempt to forcibly remount, call drive.mount(\"/content/gdrive\", force_remount=True).\n"
          ]
        }
      ]
    },
    {
      "cell_type": "code",
      "metadata": {
        "colab": {
          "base_uri": "https://localhost:8080/"
        },
        "id": "GqjuZnWYGKcB",
        "outputId": "ca68123f-399d-4398-8c2a-54daf8ab32db"
      },
      "source": [
        "gpu_info = !nvidia-smi\n",
        "gpu_info = '\\n'.join(gpu_info)\n",
        "if gpu_info.find('failed') >= 0:\n",
        "  print('Not connected to a GPU')\n",
        "else:\n",
        "  print(gpu_info)"
      ],
      "execution_count": 2,
      "outputs": [
        {
          "output_type": "stream",
          "name": "stdout",
          "text": [
            "Sun Oct 31 17:51:11 2021       \n",
            "+-----------------------------------------------------------------------------+\n",
            "| NVIDIA-SMI 495.29.05    Driver Version: 460.32.03    CUDA Version: 11.2     |\n",
            "|-------------------------------+----------------------+----------------------+\n",
            "| GPU  Name        Persistence-M| Bus-Id        Disp.A | Volatile Uncorr. ECC |\n",
            "| Fan  Temp  Perf  Pwr:Usage/Cap|         Memory-Usage | GPU-Util  Compute M. |\n",
            "|                               |                      |               MIG M. |\n",
            "|===============================+======================+======================|\n",
            "|   0  Tesla P100-PCIE...  Off  | 00000000:00:04.0 Off |                    0 |\n",
            "| N/A   43C    P0    29W / 250W |      0MiB / 16280MiB |      0%      Default |\n",
            "|                               |                      |                  N/A |\n",
            "+-------------------------------+----------------------+----------------------+\n",
            "                                                                               \n",
            "+-----------------------------------------------------------------------------+\n",
            "| Processes:                                                                  |\n",
            "|  GPU   GI   CI        PID   Type   Process name                  GPU Memory |\n",
            "|        ID   ID                                                   Usage      |\n",
            "|=============================================================================|\n",
            "|  No running processes found                                                 |\n",
            "+-----------------------------------------------------------------------------+\n"
          ]
        }
      ]
    },
    {
      "cell_type": "code",
      "metadata": {
        "id": "HiOLnR-LGLGC"
      },
      "source": [
        "!pip3 install -q pydicom "
      ],
      "execution_count": 3,
      "outputs": []
    },
    {
      "cell_type": "code",
      "metadata": {
        "id": "qA1hY-ukGPUh"
      },
      "source": [
        "# Imports\n",
        "import os\n",
        "import cv2\n",
        "import pydicom\n",
        "\n",
        "import numpy as np \n",
        "import pandas as pd \n",
        "import seaborn as sns\n",
        "import matplotlib.pylab as plt\n",
        "import tensorflow as tf\n",
        "%matplotlib inline\n",
        "\n",
        "#from google.colab import drive\n",
        "\n",
        "from tensorflow.keras.applications.mobilenet import MobileNet\n",
        "from tensorflow.keras.layers import Concatenate, UpSampling2D, Conv2D, Reshape, BatchNormalization\n",
        "from tensorflow.keras.models import Model\n",
        "from tensorflow.keras.losses import binary_crossentropy\n",
        "from tensorflow.keras.optimizers import Adam\n",
        "\n",
        "import skimage\n",
        "from skimage.transform import resize\n",
        "from skimage import feature, filters\n",
        "from sklearn.model_selection import train_test_split\n",
        "from sklearn.metrics import confusion_matrix\n",
        "from sklearn.metrics import classification_report\n",
        "import random\n",
        "import pickle\n",
        "from sklearn.metrics import roc_curve,auc,precision_recall_curve,classification_report"
      ],
      "execution_count": 46,
      "outputs": []
    },
    {
      "cell_type": "code",
      "metadata": {
        "colab": {
          "base_uri": "https://localhost:8080/"
        },
        "id": "XrljjB_kWYTV",
        "outputId": "7a0d90f5-ad5e-4e7f-8d17-bb6cfeaf2464"
      },
      "source": [
        "print(tf.__version__)"
      ],
      "execution_count": 5,
      "outputs": [
        {
          "output_type": "stream",
          "name": "stdout",
          "text": [
            "2.6.0\n"
          ]
        }
      ]
    },
    {
      "cell_type": "code",
      "metadata": {
        "colab": {
          "base_uri": "https://localhost:8080/"
        },
        "id": "a_6d2A7wWcSr",
        "outputId": "4c891360-cce8-434f-95b5-7bb4efbf6a59"
      },
      "source": [
        "print(pydicom.__version__)"
      ],
      "execution_count": 6,
      "outputs": [
        {
          "output_type": "stream",
          "name": "stdout",
          "text": [
            "2.2.2\n"
          ]
        }
      ]
    },
    {
      "cell_type": "code",
      "metadata": {
        "id": "Gm_CRfMLG2Tb"
      },
      "source": [
        "output_path = '/content/gdrive/MyDrive/Capstone/Data/'\n",
        "patient_df_path = output_path + 'patient_df.pb'\n",
        "train_path = '/content/gdrive/MyDrive/Capstone/Data/stage_2_train_images/'\n",
        "input_path=\"/content/gdrive/MyDrive/Capstone/Data/\"\n",
        "\n",
        "# output weights filepaths\n",
        "#cust_unet_path = './cust_unet_seg.h5'\n",
        "#mobilenet_unet_path = './umobilnet_seg.h5'\n",
        "#basic_cnn_path = './basic_cnn_seg.h5'\n",
        "basic_unet_i64_b64_e6_path = '/content/gdrive/MyDrive/Capstone/Data/basic_unet_i64_b64_e6_seg.h5'\n",
        "\n",
        "# Pickle output files\n",
        "#basic_cnn_history = output_path + 'BasicCNN_history.pickle'\n",
        "#basic_unet_history = output_path + 'BasicUnet_history.pickle'\n",
        "#unet_mobnet_history = output_path + 'unet_mobnet_history.pickle'\n",
        "basic_unet_i64_b64_e6_history = output_path + 'basic_unet_i64_b64_e6_history.pickle'\n",
        "\n",
        "#basic_cnn_creport = output_path +\"BasicCNN_creport.pickle\"\n",
        "#basic_unet_creport = output_path + \"BasicUnet_creport.pickle\"\n",
        "#unet_mobnet_creport = output_path +'unet_mobnet_creport.pickle\"\n",
        "basic_unet_i64_b64_e6_creport = output_path + 'basic_unet_i64_b64_e6_creport.pickle'\n",
        "\n",
        "# Model filepaths\n",
        "#basic_cnn_model = output_path + 'BasicCNN_model.h5'\n",
        "#basic_unet_model = output_path + \"BasicUnet_model.h5\"\n",
        "#unet_mobnet_model = output_path + \"unet_mobnet_model.h5\"\n",
        "basic_unet_i64_b64_e6_model_path = output_path + 'basic_unet_i64_b64_e6_model.h5'"
      ],
      "execution_count": 7,
      "outputs": []
    },
    {
      "cell_type": "code",
      "metadata": {
        "id": "eDVe-Pa5XXF9"
      },
      "source": [
        "IMAGE_SHAPE = [1024,1024]\n",
        "IMG_PATH = train_path\n",
        "INPUT_SIZE_64 = [64,64,3]\n",
        "BATCH_SIZE_8 = 8\n",
        "BATCH_SIZE_32 = 32\n",
        "BATCH_SIZE_64 = 64\n",
        "EPOCH_SIZE = 6"
      ],
      "execution_count": 8,
      "outputs": []
    },
    {
      "cell_type": "code",
      "metadata": {
        "id": "Hvahqsi3Xazs"
      },
      "source": [
        "def get_img(img_path, patientId):\n",
        "    '''Function to get an pixel array image from dcm file'''\n",
        "\n",
        "    dcm_filename = img_path + patientId + '.dcm'\n",
        "    dcm_img = pydicom.read_file(dcm_filename)\n",
        "    \n",
        "    img = dcm_img.pixel_array\n",
        "    return dcm_filename,img\n",
        "\n",
        "def get_mask(bboxes, input_size):\n",
        "    '''Function to get mask given the bounding box co-ordinates and the image_size'''\n",
        "    \n",
        "    # add 1's at the location of pneumonia\n",
        "    mask = np.zeros(IMAGE_SHAPE) # Black background\n",
        "    for bbox in bboxes:\n",
        "        if ( not np.isnan(bbox).any()):\n",
        "            xmin, ymin, width, height = [int(i) for i in bbox] # Get box co-ordinates\n",
        "            mask[ymin:ymin+height, xmin:xmin+width] = 1 # Color Highlight the pneumonia area\n",
        "        \n",
        "    mask = resize(mask,input_size, mode='reflect') # resize output mask to  input size\n",
        "    return (mask)\n",
        "\n",
        "def draw_box(image, box):\n",
        "    '''Function to draw a rectangle on an image'''\n",
        "\n",
        "    # Convert coordinates to integers\n",
        "    box = map(int, box)\n",
        "    \n",
        "    # Extract coordinates for rectangle\n",
        "    x, y, width, height = box\n",
        "    x1 = x + width\n",
        "    y1 = y + height\n",
        "   \n",
        "    color = (255, 0, 0) \n",
        "    thickness = 8\n",
        "    \n",
        "    # Draw a rectangle with line borders of thickness of 8 px \n",
        "    image = cv2.rectangle(image, (x,y), (x1,y1), color, thickness) \n",
        "\n",
        "    return image\n",
        "\n",
        "def get_boxes(patient_df, patientId):\n",
        "    ''' Return bboxes for the given patientId'''\n",
        "    \n",
        "    return patient_df[patient_df['patientId'] == patientId]['bboxes'].values[0]\n",
        "\n",
        "\n",
        "def draw_bounded_image(img_path, patient_df, patientId):\n",
        "    '''Bound the image with boxes covering the affected pneumonia areas'''\n",
        "\n",
        "    # Get pixel image array\n",
        "    file,image = get_img(img_path, patientId)\n",
        "\n",
        "    # Get box co-ordinates for this patient\n",
        "    boxes = get_boxes(patient_df, patientId)\n",
        "\n",
        "    # Add the boxes to image\n",
        "    for box in boxes:\n",
        "        if ( np.isnan(np.sum(boxes)).any() ) : # Check if image is of a person without penumonia i.e box = NaN)\n",
        "            break;\n",
        "        else:\n",
        "            image = draw_box(image=image, box=box) # Overlay the box on the image\n",
        "\n",
        "    return file,image"
      ],
      "execution_count": 9,
      "outputs": []
    },
    {
      "cell_type": "code",
      "metadata": {
        "id": "T3YmERU4Xhj_"
      },
      "source": [
        "def printTwoImgs(img1, img2, title1, title2):\n",
        "    \n",
        "    fig, ax = plt.subplots(1, 2, figsize=(10,10))\n",
        "\n",
        "    ax[0].imshow(img1, cmap=\"gray\")\n",
        "    ax[1].imshow(img2, cmap=\"gray\")\n",
        "    \n",
        "    ax[0].set_title(title1)\n",
        "    ax[1].set_title(title2)\n",
        "    \n",
        "    ax[0].axis('off')\n",
        "    ax[1].axis('off')"
      ],
      "execution_count": 10,
      "outputs": []
    },
    {
      "cell_type": "code",
      "metadata": {
        "id": "0cKpMJ2lXlGv"
      },
      "source": [
        "# Define the preprocess input function to be called from CustomDataGen\n",
        "def preprocess_input(X):\n",
        "  ''' Function to preprocess image. This can vary if we use imported model architectures'''\n",
        "  return X/255"
      ],
      "execution_count": 11,
      "outputs": []
    },
    {
      "cell_type": "code",
      "metadata": {
        "id": "17H2BU9RXu8Q"
      },
      "source": [
        "class CustomDataGen(tf.keras.utils.Sequence):\n",
        "    '''Define Custom Data Generator'''\n",
        "    # Keras ImageDataGenerator cannot be used because of not able to handle DICOM images easily\n",
        "    # as well as to create masks in batches, to save memory\n",
        "\n",
        "    # Called on initialization\n",
        "    def __init__(self, df,\n",
        "                 batch_size,\n",
        "                 input_size=INPUT_SIZE_64,\n",
        "                 shuffle=True,\n",
        "                 augment = 'no',\n",
        "                ):\n",
        "        \n",
        "        self.df = df.copy()\n",
        "        self.batch_size = batch_size\n",
        "        self.input_size = input_size\n",
        "        self.shuffle = shuffle\n",
        "        self.augment = augment\n",
        "        self.n = len(self.df)\n",
        "\n",
        "    # Private method called by __getdata. Creates masks for an image\n",
        "    def __getmask(self, bboxes, input_size):\n",
        "\n",
        "        # add 1's at the location of pneumonia\n",
        "        mask = np.zeros(IMAGE_SHAPE) # Black background\n",
        "        for bbox in bboxes:\n",
        "            if ( not np.isnan(bbox).any()):\n",
        "                xmin, ymin, width, height = [int(i) for i in bbox] # Get box co-ordinates\n",
        "                mask[ymin:ymin+height, xmin:xmin+width] = 1 # Color Highlight the pneumonia area\n",
        "        \n",
        "        mask = resize(mask,self.input_size, mode='reflect') # resize output mask to  input size\n",
        "        return (mask)\n",
        "\n",
        "    # Private method called by __getdata. Gets pixel image array and preprocesses it (UNET backbone)\n",
        "    def __getimage(self, path, image_size):\n",
        "        image_arr = pydicom.read_file(path).pixel_array\n",
        "        image_arr = np.stack((image_arr,)*3, axis=-1) # Expand grayscale image to contain 3 channels\n",
        "        image_arr = resize(image_arr,self.input_size, mode='reflect')\n",
        "        return (image_arr)\n",
        "    \n",
        "    # Private method called by __getitem__. Gets X and y for a batch\n",
        "    def __getdata(self, batches):\n",
        "        # Generates data containing batch_size samples of features(image pixels array) and targets(mask and label)\n",
        "\n",
        "        batch_paths = [IMG_PATH + patientId + '.dcm' for patientId in batches['patientId']]\n",
        "        batch_bboxes = batches['bboxes'].values\n",
        "\n",
        "        X_batch = np.asarray([self.__getimage(path, self.input_size) for path in batch_paths])\n",
        "\n",
        "        y_batch = np.asarray([self.__getmask( bbox, self.input_size) \n",
        "                               for bbox in batch_bboxes])\n",
        "        return X_batch, y_batch\n",
        "\n",
        "    # Mandatory Sequence class method, called to yield the next batch of data at index \n",
        "    def __getitem__(self, index):\n",
        "        batch_start = index * self.batch_size\n",
        "        batch_end = (index + 1) * self.batch_size\n",
        "        batches = self.df[batch_start:batch_end]\n",
        "        X_batch, y_batch = self.__getdata(batches) \n",
        "        X_batch = preprocess_input(X_batch)\n",
        "        return X_batch, y_batch\n",
        "    \n",
        "    # Mandatory Sequence class method. Get number of steps in an epoch that runs all batches to update the model\n",
        "    def __len__(self):\n",
        "        return self.n // self.batch_size\n",
        "\n",
        "    # Optional Sequence class method, called at the end of every epoch during model run. \n",
        "    def on_epoch_end(self):\n",
        "        # Shuffle data at end of every epoch                       \n",
        "        if self.shuffle:\n",
        "            self.df = self.df.sample(frac=1).reset_index(drop=True)"
      ],
      "execution_count": 12,
      "outputs": []
    },
    {
      "cell_type": "code",
      "metadata": {
        "id": "mwkdnKlEXxQd"
      },
      "source": [
        "def conv2d_block(input_tensor, n_filters=16):\n",
        "    \"\"\"Function to add 2 convolutional layers with the parameters passed to it\"\"\"\n",
        "\n",
        "    # first convolution\n",
        "    x = tf.keras.layers.Conv2D(n_filters, (3,3), kernel_initializer = 'he_normal', padding = 'same')(input_tensor)\n",
        "    x = tf.keras.layers.BatchNormalization()(x)\n",
        "    x = tf.keras.layers.Activation('relu')(x)\n",
        "    \n",
        "  \n",
        "    # second convolution\n",
        "    x = tf.keras.layers.Conv2D(n_filters, (3,3), kernel_initializer = 'he_normal', padding = 'same')(x)\n",
        "    x = tf.keras.layers.BatchNormalization()(x)\n",
        "    x = tf.keras.layers.Activation('relu')(x)\n",
        "    \n",
        "    return x"
      ],
      "execution_count": 13,
      "outputs": []
    },
    {
      "cell_type": "code",
      "metadata": {
        "id": "BCqgCU_xX2L4"
      },
      "source": [
        "def create_cnnmodel(input_size=INPUT_SIZE_64):\n",
        "    \n",
        "    #Define input layer\n",
        "    input_tensor = tf.keras.layers.Input(input_size, name='input_layer')\n",
        "    \n",
        "    #First double convolution block\n",
        "    n_filters = 16\n",
        "    c1 = conv2d_block(input_tensor, n_filters*1)\n",
        "    c2 = conv2d_block(c1, n_filters*2)\n",
        "    c4 = conv2d_block(c2, n_filters*4)\n",
        "\n",
        "    #Build the Output layer\n",
        "    outputs = tf.keras.layers.Conv2D(1, kernel_size=1, activation='sigmoid')(c4) \n",
        "\n",
        "    #Build the model using different layers\n",
        "    model = tf.keras.Model(inputs=[input_tensor], outputs=[outputs])\n",
        "    return model"
      ],
      "execution_count": 14,
      "outputs": []
    },
    {
      "cell_type": "code",
      "metadata": {
        "id": "s20-EYAcX5bM"
      },
      "source": [
        "def down_sample(tensor, dropout):\n",
        "    d = tf.keras.layers.MaxPooling2D((2, 2))(tensor) \n",
        "    return tf.keras.layers.Dropout(dropout)(d) \n",
        "    \n",
        "def up_sample(tensor, n_filters):\n",
        "    return tf.keras.layers.Conv2DTranspose(n_filters, (3, 3), \n",
        "                                         strides = (2, 2), \n",
        "                                         padding = 'same')(tensor)\n",
        "def concat(tensor1, tensor2, dropout):\n",
        "    c = tf.keras.layers.concatenate([tensor1, tensor2])\n",
        "    return tf.keras.layers.Dropout(dropout)(c) \n",
        "    \n",
        "def create_custom_unet(input_size=INPUT_SIZE_64, n_filters=16, dropout=0.4):\n",
        "    ''' Function to build a custom UNET model from scratch using CNN'''\n",
        "    \n",
        "    #Define input layer\n",
        "    input_tensor = tf.keras.layers.Input(input_size, name='input_layer')\n",
        "\n",
        "    #ENCODER - DOWNSAMPLE the image\n",
        "\n",
        "    #First Block of Encoder\n",
        "    c1 = conv2d_block(input_tensor, n_filters*1) # 64*64*16\n",
        "    e1 = down_sample(c1, dropout)\n",
        "\n",
        "    #Second Block of Encoder\n",
        "    c2 = conv2d_block(e1, n_filters*2) # 32 *32 * 32\n",
        "    e2 = down_sample(c2, dropout)\n",
        "\n",
        "    #Central Block of Encoder\n",
        "    c3 = conv2d_block(e2, n_filters*4) # 16 * 16 * 64\n",
        "\n",
        "    #We now have output of Encoder\n",
        "\n",
        "    #DECODER - UPSAMPLE the feature to generate mask\n",
        "\n",
        "    # Central Block of Decoder\n",
        "    d3 = conv2d_block(c3, n_filters*4) # 16 * 16 * 64\n",
        "    \n",
        "    # First Block of Decoder\n",
        "    d2 = up_sample(d3, n_filters*4) \n",
        "    d2 = concat(d2,c2, dropout) #First Block of Decoder - connected to Second block on Encoder side\n",
        "    c4 = conv2d_block(d2, n_filters * 2)# 32 * 32 * 32\n",
        "\n",
        "    # Second Block of Decoder \n",
        "    d1 = up_sample(c4, n_filters*2) \n",
        "    d1 = concat(d1,c1,dropout) #Second Block of Decoder - connected to First block on Encoder side\n",
        "    c5 = conv2d_block(d1, n_filters*1)# 64 * 64 * 16\n",
        "    \n",
        "    #Build the Output layer\n",
        "    outputs = tf.keras.layers.Conv2D(1, kernel_size=1, activation='sigmoid')(c5) \n",
        "\n",
        "    #Build the model using different layers\n",
        "    model = tf.keras.Model(inputs=[input_tensor], outputs=[outputs])\n",
        "    return model"
      ],
      "execution_count": 15,
      "outputs": []
    },
    {
      "cell_type": "code",
      "metadata": {
        "id": "NxhaCkU1YBYe"
      },
      "source": [
        "def create_backbone_unet(backbone, input_size=INPUT_SIZE_64, dropout=0.4):\n",
        "  '''Function to create UNET model from mobilenet backbone'''\n",
        "    \n",
        "  #Freeze Encoder layers\n",
        "  for layer in backbone.layers:\n",
        "    layer.trainable = False\n",
        "  \n",
        "  model =  backbone\n",
        "    \n",
        "  # Build Decoder\n",
        "  block1 = model.get_layer(\"conv_pw_1_relu\").output \n",
        "  block2 = model.get_layer(\"conv_pw_3_relu\").output\n",
        "  block3 = model.get_layer(\"conv_pw_5_relu\").output\n",
        "  block6 = model.get_layer(\"conv_pw_11_relu\").output\n",
        "  block7 = model.get_layer(\"conv_pw_13_relu\").output\n",
        "\n",
        "  n_filters = 32\n",
        "  x = Concatenate()([UpSampling2D()(block7), block6])\n",
        "  x = conv2d_block(x,n_filters * 8)\n",
        "\n",
        "  x = Concatenate()([UpSampling2D()(x), block3])\n",
        "  x = conv2d_block(x,n_filters * 4)\n",
        "\n",
        "  x = Concatenate()([UpSampling2D()(x), block2])\n",
        "  x = conv2d_block(x,n_filters * 2)\n",
        "\n",
        "  x = Concatenate()([UpSampling2D()(x), block1])\n",
        "  x = conv2d_block(x,n_filters)\n",
        "\n",
        "  x =  UpSampling2D()(x)\n",
        "  x = conv2d_block(x,n_filters)\n",
        "\n",
        "  # Output layer\n",
        "  x = Conv2D(1, kernel_size=1, kernel_initializer='he_normal', padding='same')(x)\n",
        "  x = tf.keras.layers.Activation('sigmoid')(x)\n",
        "\n",
        "  return Model(inputs=model.input, outputs=x)"
      ],
      "execution_count": 16,
      "outputs": []
    },
    {
      "cell_type": "code",
      "metadata": {
        "id": "SYUwZIrUYGMB"
      },
      "source": [
        "def create_unet_model(backbone='mobilenet', input_size=INPUT_SIZE_64, dropout=0.4):\n",
        "    ''' Creates UNET model from different backbone, including no backbone(custom UNET from scratch)'''\n",
        "\n",
        "    #model = MobileNet(input_shape=input_size, include_top=False, alpha=1.0, weights = 'imagenet', dropout=0.4)\n",
        "    #model = create_backbone_unet(model)\n",
        "\n",
        "    if (backbone == 'None'):\n",
        "      model = create_custom_unet()\n",
        "\n",
        "    return model"
      ],
      "execution_count": 17,
      "outputs": []
    },
    {
      "cell_type": "code",
      "metadata": {
        "id": "zG_j4pIyYJCE"
      },
      "source": [
        "# Custom metric and loss functions for validation\n",
        "\n",
        "def dice_coefficient(y_true, y_pred):\n",
        "    numerator = 2 * tf.reduce_sum(y_true * y_pred)\n",
        "    denominator = tf.reduce_sum(y_true + y_pred)\n",
        "\n",
        "    return numerator / (denominator + tf.keras.backend.epsilon())\n",
        "  \n",
        "def loss(y_true, y_pred):\n",
        "    return binary_crossentropy(y_true, y_pred) - tf.keras.backend.log(dice_coefficient(y_true, y_pred) + tf.keras.backend.epsilon())"
      ],
      "execution_count": 18,
      "outputs": []
    },
    {
      "cell_type": "code",
      "metadata": {
        "id": "BWgF1QxuYNO7"
      },
      "source": [
        "def PlotMetrics(history):\n",
        "    plt.figure(figsize=(8, 5))\n",
        "    plt.grid(True)\n",
        "    plt.plot(history.history['dice_coefficient'],     label='Train Dice-Coef',      color = \"green\" );\n",
        "    plt.plot(history.history['val_dice_coefficient'], label='Val Dice-Coef',  color = \"yellow\");\n",
        "    plt.plot(history.history['loss'],         label='Train Loss',          color = \"red\"   );\n",
        "    plt.plot(history.history['val_loss'],     label='Val Loss',      color = \"orange\");\n",
        "    plt.title(\"Validation and Training - Loss and Dice Coefficient vs Epoch\")\n",
        "    plt.xlabel(\"Epoch\")\n",
        "    plt.legend();"
      ],
      "execution_count": 19,
      "outputs": []
    },
    {
      "cell_type": "code",
      "metadata": {
        "id": "OaKdy0fUYQEc"
      },
      "source": [
        "def predict_imagemask(model, patientId, patient_df, train_path, threshold=0.5, input_size=INPUT_SIZE_64):\n",
        "    '''Function to predict a mask for an image'''\n",
        "\n",
        "    # Get image pixel array\n",
        "    _,image = get_img(train_path, patientId)\n",
        "    image = resize(image,input_size, mode='reflect')\n",
        "\n",
        "    # Get bboxes and expected mask\n",
        "    bboxes = patient_df[patient_df['patientId'] == patientId]['bboxes'].values[0]\n",
        "    mask = get_mask(bboxes, input_size)\n",
        "\n",
        "    # Prepare the image for feeding into model for \n",
        "    image_rescaled = preprocess_input(np.expand_dims(image,0))\n",
        "\n",
        "    # Predict mask for image\n",
        "    pred_mask = model.predict(image_rescaled)\n",
        "\n",
        "    # remove the batch dimension\n",
        "    pred_mask = pred_mask[0]\n",
        "\n",
        "    # Mask contains probabilities from sigmoid function. Convert to 0 or 1 values for the pixels, by using a threshold\n",
        "    pred_mask = (pred_mask > threshold) * 1.0\n",
        "\n",
        "    return (image,mask,pred_mask)"
      ],
      "execution_count": 20,
      "outputs": []
    },
    {
      "cell_type": "code",
      "metadata": {
        "id": "5v-bQIR5YUZF"
      },
      "source": [
        "def get_predictions(model,val_df,train_path, input_size):\n",
        "    y_pred = []\n",
        "    for patientId in val_df['patientId']:\n",
        "        image,mask,pred_mask = predict_imagemask(model,patientId, val_df, train_path, input_size=input_size)\n",
        "        y_pred.append((1 in pred_mask) * 1)\n",
        "    y_true = val_df['Target']\n",
        "    return y_true, y_pred"
      ],
      "execution_count": 21,
      "outputs": []
    },
    {
      "cell_type": "code",
      "metadata": {
        "id": "4z5fLMx1YXyN"
      },
      "source": [
        "def print_confusion_matrix(y_true, y_pred):\n",
        "    '''Function to print confusion_matrix'''\n",
        "\n",
        "    # Get confusion matrix array\n",
        "    array = confusion_matrix(y_true, y_pred)    \n",
        "    df_cm = pd.DataFrame(array, range(2), range(2))\n",
        "\n",
        "    print(\"Total samples = \", len(val_df))\n",
        "\n",
        "    # Plot heatmap and get sns heatmap values\n",
        "    sns.set(font_scale=1.4); # for label size\n",
        "    result = sns.heatmap(df_cm, annot=True, annot_kws={\"size\": 16}, fmt='g', cbar=False); \n",
        "\n",
        "    # Add labels to heatmap\n",
        "    labels = ['TN=','FP=','FN=','TP=']\n",
        "    i=0\n",
        "    for t in result.texts:\n",
        "        t.set_text(labels[i] + t.get_text())\n",
        "        i += 1\n",
        "    \n",
        "    plt.xlabel(\"Predicted Values\")\n",
        "    plt.ylabel('True Values')\n",
        "    plt.show()\n",
        "    return"
      ],
      "execution_count": 22,
      "outputs": []
    },
    {
      "cell_type": "code",
      "metadata": {
        "id": "wrZ6ssA5YbLD"
      },
      "source": [
        "def print_image_mask(image, mask, pred_mask):\n",
        "    \n",
        "    # Plot three images side by side\n",
        "    fig, ax = plt.subplots(1, 3, figsize=(10,10))\n",
        "    ax[0].imshow(image, cmap=plt.cm.gist_gray) # Show the image\n",
        "    ax[0].axis('off') # Remove axis\n",
        "    ax[0].set_title(\"IMAGE\")\n",
        "\n",
        "    ax[1].imshow(mask*image, cmap=plt.cm.gist_gray)\n",
        "    ax[1].set_title(\"Expected Mask\")\n",
        "    ax[1].axis('off')\n",
        "        \n",
        "    # Visualize mask superimposed on image \n",
        "    masked = mask * image\n",
        "    ax[2].imshow(masked)\n",
        "    ax[2].imshow(pred_mask * image)\n",
        "    ax[2].set_title(\"Predicted Mask\")\n",
        "    ax[2].axis('off')\n",
        "    plt.show()"
      ],
      "execution_count": 23,
      "outputs": []
    },
    {
      "cell_type": "code",
      "metadata": {
        "id": "6WcUUQxiGX_o"
      },
      "source": [
        "\n",
        "labels_file = input_path + \"stage_2_train_labels.csv\"\n",
        "class_file = input_path + \"stage_2_detailed_class_info.csv\"\n",
        "\n",
        "labels_df = pd.read_csv(labels_file)\n",
        "classes_df = pd.read_csv(class_file)"
      ],
      "execution_count": 24,
      "outputs": []
    },
    {
      "cell_type": "code",
      "metadata": {
        "id": "7p4tfhaQHBux"
      },
      "source": [
        "def get_single_df(patient_df_df,classes_df,df_path, images_path):\n",
        "    ''' Function to add relevant dicom image metadata columns into dataframe'''\n",
        "\n",
        "    # If the session has a prestored dataframe pickle use it.\n",
        "    if (os.path.isfile(df_path)):\n",
        "        print(\"Reading prestored dataframe object\")\n",
        "        patient_df = pd.read_pickle(df_path)\n",
        "        return patient_df\n",
        "        \n",
        "    bboxes = [patient_df_df[patient_df_df['patientId'] == patientId].loc[:,'x':'height'].values \n",
        "                  for patientId in patient_df_df['patientId']] # Get list of bboxes for each patientId\n",
        "    \n",
        "    patient_df = patient_df_df.copy()\n",
        "    patient_df.insert(1, 'bboxes', bboxes ) # Add new bboxes column\n",
        "    patient_df.insert(2, 'class', classes_df['class']) #  Add class column\n",
        "\n",
        "    # Remove x,y, width, height columns and drop the duplicate rows of patientIds \n",
        "    patient_df = patient_df.drop(columns=['x','y','width','height']).drop_duplicates(subset=['patientId'], ignore_index=True)\n",
        "    \n",
        "    # Initialize columns for DICOM metadata\n",
        "    patient_df['gender'] = np.nan\n",
        "    patient_df['age'] = np.nan\n",
        "    patient_df['viewpos'] = np.nan\n",
        "    patient_df['dimx'] = np.nan\n",
        "    patient_df['dimy'] = np.nan\n",
        "\n",
        "    for patientId in patient_df['patientId']:    \n",
        "        # Get dcm filename\n",
        "        dcm_file = images_path + patientId + '.dcm'\n",
        "        ds = pydicom.dcmread(dcm_file)\n",
        "    \n",
        "        # Get the row indices of patientId in dataframe\n",
        "        indices = patient_df.index[patient_df['patientId'] == patientId].tolist()\n",
        "    \n",
        "        # Add the sex, age, viewpos, image dimensions data to the  dataframe\n",
        "        patient_df.at[indices,'gender'] = ds.PatientSex\n",
        "        patient_df.at[indices,'age'] = ds.PatientAge\n",
        "        patient_df.at[indices , 'viewpos'] = ds[0x0018, 0x5101].value\n",
        "        patient_df.at[indices , 'dimx']    = ds[0x0028, 0x0010].value\n",
        "        patient_df.at[indices , 'dimy']    = ds[0x0028, 0x0011].value\n",
        "\n",
        "    # Store the updated patient_df dataframe as an object for faster retrieval in subsequent sessions\n",
        "    patient_df.to_pickle(df_path) # (not using to_csv because it stores bboxes lists as strings).\n",
        "    \n",
        "    return patient_df"
      ],
      "execution_count": 25,
      "outputs": []
    },
    {
      "cell_type": "code",
      "metadata": {
        "colab": {
          "base_uri": "https://localhost:8080/",
          "height": 220
        },
        "id": "kWXg-lrnGltK",
        "outputId": "4e51ebe9-a3ac-4e24-9ff2-37fc972dba66"
      },
      "source": [
        "# Get a single dataframe by merging the labels_df and classes_df dataframes and adding relevant DICOM metadata columnspath = patient_df_path\n",
        "df_path = patient_df_path # dataframe pickle object file to store or retrieve to/from disk\n",
        "images_path = train_path # path where DICOM images are stored\n",
        "patient_df = get_single_df(labels_df,classes_df,patient_df_path, images_path)\n",
        "patient_df.head()"
      ],
      "execution_count": 26,
      "outputs": [
        {
          "output_type": "stream",
          "name": "stdout",
          "text": [
            "Reading prestored dataframe object\n"
          ]
        },
        {
          "output_type": "execute_result",
          "data": {
            "text/html": [
              "<div>\n",
              "<style scoped>\n",
              "    .dataframe tbody tr th:only-of-type {\n",
              "        vertical-align: middle;\n",
              "    }\n",
              "\n",
              "    .dataframe tbody tr th {\n",
              "        vertical-align: top;\n",
              "    }\n",
              "\n",
              "    .dataframe thead th {\n",
              "        text-align: right;\n",
              "    }\n",
              "</style>\n",
              "<table border=\"1\" class=\"dataframe\">\n",
              "  <thead>\n",
              "    <tr style=\"text-align: right;\">\n",
              "      <th></th>\n",
              "      <th>patientId</th>\n",
              "      <th>bboxes</th>\n",
              "      <th>class</th>\n",
              "      <th>Target</th>\n",
              "      <th>gender</th>\n",
              "      <th>age</th>\n",
              "      <th>viewpos</th>\n",
              "      <th>dimx</th>\n",
              "      <th>dimy</th>\n",
              "    </tr>\n",
              "  </thead>\n",
              "  <tbody>\n",
              "    <tr>\n",
              "      <th>0</th>\n",
              "      <td>0004cfab-14fd-4e49-80ba-63a80b6bddd6</td>\n",
              "      <td>[[nan, nan, nan, nan]]</td>\n",
              "      <td>No Lung Opacity / Not Normal</td>\n",
              "      <td>0</td>\n",
              "      <td>F</td>\n",
              "      <td>51</td>\n",
              "      <td>PA</td>\n",
              "      <td>1024.0</td>\n",
              "      <td>1024.0</td>\n",
              "    </tr>\n",
              "    <tr>\n",
              "      <th>1</th>\n",
              "      <td>00313ee0-9eaa-42f4-b0ab-c148ed3241cd</td>\n",
              "      <td>[[nan, nan, nan, nan]]</td>\n",
              "      <td>No Lung Opacity / Not Normal</td>\n",
              "      <td>0</td>\n",
              "      <td>F</td>\n",
              "      <td>48</td>\n",
              "      <td>PA</td>\n",
              "      <td>1024.0</td>\n",
              "      <td>1024.0</td>\n",
              "    </tr>\n",
              "    <tr>\n",
              "      <th>2</th>\n",
              "      <td>00322d4d-1c29-4943-afc9-b6754be640eb</td>\n",
              "      <td>[[nan, nan, nan, nan]]</td>\n",
              "      <td>No Lung Opacity / Not Normal</td>\n",
              "      <td>0</td>\n",
              "      <td>M</td>\n",
              "      <td>19</td>\n",
              "      <td>AP</td>\n",
              "      <td>1024.0</td>\n",
              "      <td>1024.0</td>\n",
              "    </tr>\n",
              "    <tr>\n",
              "      <th>3</th>\n",
              "      <td>003d8fa0-6bf1-40ed-b54c-ac657f8495c5</td>\n",
              "      <td>[[nan, nan, nan, nan]]</td>\n",
              "      <td>Normal</td>\n",
              "      <td>0</td>\n",
              "      <td>M</td>\n",
              "      <td>28</td>\n",
              "      <td>PA</td>\n",
              "      <td>1024.0</td>\n",
              "      <td>1024.0</td>\n",
              "    </tr>\n",
              "    <tr>\n",
              "      <th>4</th>\n",
              "      <td>00436515-870c-4b36-a041-de91049b9ab4</td>\n",
              "      <td>[[264.0, 152.0, 213.0, 379.0], [562.0, 152.0, ...</td>\n",
              "      <td>Lung Opacity</td>\n",
              "      <td>1</td>\n",
              "      <td>F</td>\n",
              "      <td>32</td>\n",
              "      <td>AP</td>\n",
              "      <td>1024.0</td>\n",
              "      <td>1024.0</td>\n",
              "    </tr>\n",
              "  </tbody>\n",
              "</table>\n",
              "</div>"
            ],
            "text/plain": [
              "                              patientId  ...    dimy\n",
              "0  0004cfab-14fd-4e49-80ba-63a80b6bddd6  ...  1024.0\n",
              "1  00313ee0-9eaa-42f4-b0ab-c148ed3241cd  ...  1024.0\n",
              "2  00322d4d-1c29-4943-afc9-b6754be640eb  ...  1024.0\n",
              "3  003d8fa0-6bf1-40ed-b54c-ac657f8495c5  ...  1024.0\n",
              "4  00436515-870c-4b36-a041-de91049b9ab4  ...  1024.0\n",
              "\n",
              "[5 rows x 9 columns]"
            ]
          },
          "metadata": {},
          "execution_count": 26
        }
      ]
    },
    {
      "cell_type": "code",
      "metadata": {
        "colab": {
          "base_uri": "https://localhost:8080/"
        },
        "id": "DusoW86r7W24",
        "outputId": "ba27dfd8-4c94-4d54-f7e3-76430d598f88"
      },
      "source": [
        "patient_df.shape"
      ],
      "execution_count": 27,
      "outputs": [
        {
          "output_type": "execute_result",
          "data": {
            "text/plain": [
              "(26684, 9)"
            ]
          },
          "metadata": {},
          "execution_count": 27
        }
      ]
    },
    {
      "cell_type": "code",
      "metadata": {
        "colab": {
          "base_uri": "https://localhost:8080/"
        },
        "id": "pekY9LqqRxnW",
        "outputId": "baefc81f-9125-43cd-f5b0-2298ad892f5d"
      },
      "source": [
        "print('X dimension of images:' , patient_df['dimx'].value_counts())\n",
        "print('Y dimension of images:', patient_df['dimy'].value_counts())"
      ],
      "execution_count": 28,
      "outputs": [
        {
          "output_type": "stream",
          "name": "stdout",
          "text": [
            "X dimension of images: 1024.0    26684\n",
            "Name: dimx, dtype: int64\n",
            "Y dimension of images: 1024.0    26684\n",
            "Name: dimy, dtype: int64\n"
          ]
        }
      ]
    },
    {
      "cell_type": "code",
      "metadata": {
        "id": "8I_7qZBYR3pO"
      },
      "source": [
        "# To split the dataframe form an array of all the indices\n",
        "indices = range( len(patient_df))\n",
        "target = patient_df['Target'] # for stratification split\n",
        "\n",
        "# First split to get 0.2 of the dataset to use as total samples to input for model\n",
        "sample_indices, _, sample_target,_ = train_test_split(indices,target, test_size=0.5, random_state=42, stratify=target)\n",
        "\n",
        "# Split those indices further into train and val indices\n",
        "train_indices, val_indices, _,_ = train_test_split(sample_indices, sample_target, test_size=0.2, random_state=42, stratify=sample_target)"
      ],
      "execution_count": 29,
      "outputs": []
    },
    {
      "cell_type": "code",
      "metadata": {
        "id": "d3HgrjgNSzn5"
      },
      "source": [
        "# Get the train and validation dataframes from the split indices\n",
        "patient_data = patient_df[['patientId','bboxes','Target']]\n",
        "train_df = patient_data.loc[train_indices]\n",
        "val_df = patient_data.loc[val_indices]"
      ],
      "execution_count": 30,
      "outputs": []
    },
    {
      "cell_type": "code",
      "metadata": {
        "colab": {
          "base_uri": "https://localhost:8080/"
        },
        "id": "YAfOWbrpS3Cb",
        "outputId": "ec00823e-1da0-4759-8521-356347138215"
      },
      "source": [
        "print(\"Total Samples: \",len(patient_df) )\n",
        "total_sample_size = len(train_df) + len(val_df) \n",
        "print(\"Total samples selected for model training:\", total_sample_size)\n",
        "print(\"Train samples:\", len(train_df))\n",
        "print(\"Validation samples:\", len(val_df))\n",
        "print(\"Ratio of train to validation samples: %0.1f : %0.1f\" %(len(train_df)/total_sample_size, len(val_df)/len(sample_indices) ))\n",
        "print(\"Positive samples in original dataset: %0.0f%%\" %((len(patient_df[patient_df['Target'] == 1])/ len(patient_df))*100))\n",
        "print(\"Positive samples in train dataset: %0.0f%%\" %((len(train_df[train_df['Target'] == 1]) /len(train_df)) * 100))\n",
        "print(\"Positive samples in test dataset:%0.0f%%\" %((len(val_df[val_df['Target'] == 1])/len(val_df))*100))"
      ],
      "execution_count": 31,
      "outputs": [
        {
          "output_type": "stream",
          "name": "stdout",
          "text": [
            "Total Samples:  26684\n",
            "Total samples selected for model training: 13342\n",
            "Train samples: 10673\n",
            "Validation samples: 2669\n",
            "Ratio of train to validation samples: 0.8 : 0.2\n",
            "Positive samples in original dataset: 23%\n",
            "Positive samples in train dataset: 23%\n",
            "Positive samples in test dataset:23%\n"
          ]
        }
      ]
    },
    {
      "cell_type": "code",
      "metadata": {
        "id": "PrMK6jSnuG6M"
      },
      "source": [
        "## MODEL BUILDING"
      ],
      "execution_count": 32,
      "outputs": []
    },
    {
      "cell_type": "code",
      "metadata": {
        "colab": {
          "base_uri": "https://localhost:8080/"
        },
        "id": "GoGhdX8US7b7",
        "outputId": "e1a0ec53-5f4c-478a-815c-1ade2f15ff76"
      },
      "source": [
        "BACKBONE = 'None'\n",
        "basic_unet_i64_b64_e6_model = create_unet_model(BACKBONE, input_size=INPUT_SIZE_64)\n",
        "\n",
        "if (os.path.isfile(basic_unet_i64_b64_e6_path)):\n",
        "  print(\"LOADING WEIGHTS FROM PREVIOUS MODEL\\n\")\n",
        "  basic_unet_i64_b64_e6_model.load_weights(basic_unet_i64_b64_e6_path, by_name=True)\n",
        "\n",
        "basic_unet_i64_b64_e6_model.summary()"
      ],
      "execution_count": 33,
      "outputs": [
        {
          "output_type": "stream",
          "name": "stdout",
          "text": [
            "LOADING WEIGHTS FROM PREVIOUS MODEL\n",
            "\n",
            "Model: \"model\"\n",
            "__________________________________________________________________________________________________\n",
            "Layer (type)                    Output Shape         Param #     Connected to                     \n",
            "==================================================================================================\n",
            "input_layer (InputLayer)        [(None, 64, 64, 3)]  0                                            \n",
            "__________________________________________________________________________________________________\n",
            "conv2d (Conv2D)                 (None, 64, 64, 16)   448         input_layer[0][0]                \n",
            "__________________________________________________________________________________________________\n",
            "batch_normalization (BatchNorma (None, 64, 64, 16)   64          conv2d[0][0]                     \n",
            "__________________________________________________________________________________________________\n",
            "activation (Activation)         (None, 64, 64, 16)   0           batch_normalization[0][0]        \n",
            "__________________________________________________________________________________________________\n",
            "conv2d_1 (Conv2D)               (None, 64, 64, 16)   2320        activation[0][0]                 \n",
            "__________________________________________________________________________________________________\n",
            "batch_normalization_1 (BatchNor (None, 64, 64, 16)   64          conv2d_1[0][0]                   \n",
            "__________________________________________________________________________________________________\n",
            "activation_1 (Activation)       (None, 64, 64, 16)   0           batch_normalization_1[0][0]      \n",
            "__________________________________________________________________________________________________\n",
            "max_pooling2d (MaxPooling2D)    (None, 32, 32, 16)   0           activation_1[0][0]               \n",
            "__________________________________________________________________________________________________\n",
            "dropout (Dropout)               (None, 32, 32, 16)   0           max_pooling2d[0][0]              \n",
            "__________________________________________________________________________________________________\n",
            "conv2d_2 (Conv2D)               (None, 32, 32, 32)   4640        dropout[0][0]                    \n",
            "__________________________________________________________________________________________________\n",
            "batch_normalization_2 (BatchNor (None, 32, 32, 32)   128         conv2d_2[0][0]                   \n",
            "__________________________________________________________________________________________________\n",
            "activation_2 (Activation)       (None, 32, 32, 32)   0           batch_normalization_2[0][0]      \n",
            "__________________________________________________________________________________________________\n",
            "conv2d_3 (Conv2D)               (None, 32, 32, 32)   9248        activation_2[0][0]               \n",
            "__________________________________________________________________________________________________\n",
            "batch_normalization_3 (BatchNor (None, 32, 32, 32)   128         conv2d_3[0][0]                   \n",
            "__________________________________________________________________________________________________\n",
            "activation_3 (Activation)       (None, 32, 32, 32)   0           batch_normalization_3[0][0]      \n",
            "__________________________________________________________________________________________________\n",
            "max_pooling2d_1 (MaxPooling2D)  (None, 16, 16, 32)   0           activation_3[0][0]               \n",
            "__________________________________________________________________________________________________\n",
            "dropout_1 (Dropout)             (None, 16, 16, 32)   0           max_pooling2d_1[0][0]            \n",
            "__________________________________________________________________________________________________\n",
            "conv2d_4 (Conv2D)               (None, 16, 16, 64)   18496       dropout_1[0][0]                  \n",
            "__________________________________________________________________________________________________\n",
            "batch_normalization_4 (BatchNor (None, 16, 16, 64)   256         conv2d_4[0][0]                   \n",
            "__________________________________________________________________________________________________\n",
            "activation_4 (Activation)       (None, 16, 16, 64)   0           batch_normalization_4[0][0]      \n",
            "__________________________________________________________________________________________________\n",
            "conv2d_5 (Conv2D)               (None, 16, 16, 64)   36928       activation_4[0][0]               \n",
            "__________________________________________________________________________________________________\n",
            "batch_normalization_5 (BatchNor (None, 16, 16, 64)   256         conv2d_5[0][0]                   \n",
            "__________________________________________________________________________________________________\n",
            "activation_5 (Activation)       (None, 16, 16, 64)   0           batch_normalization_5[0][0]      \n",
            "__________________________________________________________________________________________________\n",
            "conv2d_6 (Conv2D)               (None, 16, 16, 64)   36928       activation_5[0][0]               \n",
            "__________________________________________________________________________________________________\n",
            "batch_normalization_6 (BatchNor (None, 16, 16, 64)   256         conv2d_6[0][0]                   \n",
            "__________________________________________________________________________________________________\n",
            "activation_6 (Activation)       (None, 16, 16, 64)   0           batch_normalization_6[0][0]      \n",
            "__________________________________________________________________________________________________\n",
            "conv2d_7 (Conv2D)               (None, 16, 16, 64)   36928       activation_6[0][0]               \n",
            "__________________________________________________________________________________________________\n",
            "batch_normalization_7 (BatchNor (None, 16, 16, 64)   256         conv2d_7[0][0]                   \n",
            "__________________________________________________________________________________________________\n",
            "activation_7 (Activation)       (None, 16, 16, 64)   0           batch_normalization_7[0][0]      \n",
            "__________________________________________________________________________________________________\n",
            "conv2d_transpose (Conv2DTranspo (None, 32, 32, 64)   36928       activation_7[0][0]               \n",
            "__________________________________________________________________________________________________\n",
            "concatenate (Concatenate)       (None, 32, 32, 96)   0           conv2d_transpose[0][0]           \n",
            "                                                                 activation_3[0][0]               \n",
            "__________________________________________________________________________________________________\n",
            "dropout_2 (Dropout)             (None, 32, 32, 96)   0           concatenate[0][0]                \n",
            "__________________________________________________________________________________________________\n",
            "conv2d_8 (Conv2D)               (None, 32, 32, 32)   27680       dropout_2[0][0]                  \n",
            "__________________________________________________________________________________________________\n",
            "batch_normalization_8 (BatchNor (None, 32, 32, 32)   128         conv2d_8[0][0]                   \n",
            "__________________________________________________________________________________________________\n",
            "activation_8 (Activation)       (None, 32, 32, 32)   0           batch_normalization_8[0][0]      \n",
            "__________________________________________________________________________________________________\n",
            "conv2d_9 (Conv2D)               (None, 32, 32, 32)   9248        activation_8[0][0]               \n",
            "__________________________________________________________________________________________________\n",
            "batch_normalization_9 (BatchNor (None, 32, 32, 32)   128         conv2d_9[0][0]                   \n",
            "__________________________________________________________________________________________________\n",
            "activation_9 (Activation)       (None, 32, 32, 32)   0           batch_normalization_9[0][0]      \n",
            "__________________________________________________________________________________________________\n",
            "conv2d_transpose_1 (Conv2DTrans (None, 64, 64, 32)   9248        activation_9[0][0]               \n",
            "__________________________________________________________________________________________________\n",
            "concatenate_1 (Concatenate)     (None, 64, 64, 48)   0           conv2d_transpose_1[0][0]         \n",
            "                                                                 activation_1[0][0]               \n",
            "__________________________________________________________________________________________________\n",
            "dropout_3 (Dropout)             (None, 64, 64, 48)   0           concatenate_1[0][0]              \n",
            "__________________________________________________________________________________________________\n",
            "conv2d_10 (Conv2D)              (None, 64, 64, 16)   6928        dropout_3[0][0]                  \n",
            "__________________________________________________________________________________________________\n",
            "batch_normalization_10 (BatchNo (None, 64, 64, 16)   64          conv2d_10[0][0]                  \n",
            "__________________________________________________________________________________________________\n",
            "activation_10 (Activation)      (None, 64, 64, 16)   0           batch_normalization_10[0][0]     \n",
            "__________________________________________________________________________________________________\n",
            "conv2d_11 (Conv2D)              (None, 64, 64, 16)   2320        activation_10[0][0]              \n",
            "__________________________________________________________________________________________________\n",
            "batch_normalization_11 (BatchNo (None, 64, 64, 16)   64          conv2d_11[0][0]                  \n",
            "__________________________________________________________________________________________________\n",
            "activation_11 (Activation)      (None, 64, 64, 16)   0           batch_normalization_11[0][0]     \n",
            "__________________________________________________________________________________________________\n",
            "conv2d_12 (Conv2D)              (None, 64, 64, 1)    17          activation_11[0][0]              \n",
            "==================================================================================================\n",
            "Total params: 240,097\n",
            "Trainable params: 239,201\n",
            "Non-trainable params: 896\n",
            "__________________________________________________________________________________________________\n"
          ]
        }
      ]
    },
    {
      "cell_type": "code",
      "metadata": {
        "colab": {
          "base_uri": "https://localhost:8080/"
        },
        "id": "SFdRafEiZHD_",
        "outputId": "53fd93b6-5be6-4b3f-d9fb-12fa9ec985f6"
      },
      "source": [
        "print(\"Number of layers in the model = \", len(basic_unet_i64_b64_e6_model.layers))"
      ],
      "execution_count": 34,
      "outputs": [
        {
          "output_type": "stream",
          "name": "stdout",
          "text": [
            "Number of layers in the model =  48\n"
          ]
        }
      ]
    },
    {
      "cell_type": "code",
      "metadata": {
        "id": "jQiwzLz6ZMj2"
      },
      "source": [
        "optimizer = Adam(learning_rate=1e-4, beta_1=0.9, beta_2=0.999, epsilon=None, decay=0.0, amsgrad=False)\n",
        "basic_unet_i64_b64_e6_model.compile(loss= loss, optimizer=optimizer, metrics=[dice_coefficient])"
      ],
      "execution_count": 35,
      "outputs": []
    },
    {
      "cell_type": "code",
      "metadata": {
        "colab": {
          "base_uri": "https://localhost:8080/"
        },
        "id": "fHiGqn3BZR6l",
        "outputId": "b52546a0-4eaa-4405-cd62-97a31f445be7"
      },
      "source": [
        "traingen = CustomDataGen(train_df,batch_size=BATCH_SIZE_64, input_size=INPUT_SIZE_64)\n",
        "valgen = CustomDataGen(val_df,batch_size=BATCH_SIZE_64, input_size=INPUT_SIZE_64)\n",
        "\n",
        "#Saving the best model using model checkpoint callback.  \n",
        "outfile = basic_unet_i64_b64_e6_path # update with new weights\n",
        "model_checkpoint=tf.keras.callbacks.ModelCheckpoint(outfile, \n",
        "                                                    save_best_only=True, \n",
        "                                                    monitor='val_dice_coefficient',\n",
        "                                                    mode='max', \n",
        "                                                    verbose=1)\n",
        "\n",
        "#es = tf.keras.callbacks.EarlyStopping(monitor='val_dice_coefficient', mode='max', verbose=1, patience=3)\n",
        "history = basic_unet_i64_b64_e6_model.fit(traingen,\n",
        "                epochs=EPOCH_SIZE,\n",
        "                validation_data=valgen,\n",
        "                callbacks=[model_checkpoint],\n",
        "                use_multiprocessing=True,\n",
        "                workers=4,\n",
        "                shuffle=True,\n",
        "                verbose=1)"
      ],
      "execution_count": 36,
      "outputs": [
        {
          "output_type": "stream",
          "name": "stdout",
          "text": [
            "Epoch 1/6\n",
            "166/166 [==============================] - 2490s 15s/step - loss: 1.4789 - dice_coefficient: 0.2722 - val_loss: 3.2637 - val_dice_coefficient: 0.0453\n",
            "\n",
            "Epoch 00001: val_dice_coefficient improved from -inf to 0.04525, saving model to /content/gdrive/MyDrive/Capstone/Data/basic_unet_i64_b64_e6_seg.h5\n",
            "Epoch 2/6\n",
            "166/166 [==============================] - 2236s 13s/step - loss: 1.3883 - dice_coefficient: 0.2938 - val_loss: 3.6222 - val_dice_coefficient: 0.1238\n",
            "\n",
            "Epoch 00002: val_dice_coefficient improved from 0.04525 to 0.12383, saving model to /content/gdrive/MyDrive/Capstone/Data/basic_unet_i64_b64_e6_seg.h5\n",
            "Epoch 3/6\n",
            "166/166 [==============================] - 2241s 13s/step - loss: 1.3367 - dice_coefficient: 0.3093 - val_loss: 2.7843 - val_dice_coefficient: 0.0773\n",
            "\n",
            "Epoch 00003: val_dice_coefficient did not improve from 0.12383\n",
            "Epoch 4/6\n",
            "166/166 [==============================] - 2261s 13s/step - loss: 1.2690 - dice_coefficient: 0.3266 - val_loss: 1.4362 - val_dice_coefficient: 0.2751\n",
            "\n",
            "Epoch 00004: val_dice_coefficient improved from 0.12383 to 0.27507, saving model to /content/gdrive/MyDrive/Capstone/Data/basic_unet_i64_b64_e6_seg.h5\n",
            "Epoch 5/6\n",
            "166/166 [==============================] - 2213s 13s/step - loss: 1.2174 - dice_coefficient: 0.3421 - val_loss: 3.1428 - val_dice_coefficient: 0.0504\n",
            "\n",
            "Epoch 00005: val_dice_coefficient did not improve from 0.27507\n",
            "Epoch 6/6\n",
            "166/166 [==============================] - 2228s 13s/step - loss: 1.1887 - dice_coefficient: 0.3529 - val_loss: 3.0295 - val_dice_coefficient: 0.1393\n",
            "\n",
            "Epoch 00006: val_dice_coefficient did not improve from 0.27507\n"
          ]
        }
      ]
    },
    {
      "cell_type": "code",
      "metadata": {
        "colab": {
          "base_uri": "https://localhost:8080/"
        },
        "id": "DUggtAuF8nkw",
        "outputId": "4858e69e-0c75-42bc-dbb1-b91f67aca329"
      },
      "source": [
        "history.history"
      ],
      "execution_count": 37,
      "outputs": [
        {
          "output_type": "execute_result",
          "data": {
            "text/plain": [
              "{'dice_coefficient': [0.2722474932670593,\n",
              "  0.29375433921813965,\n",
              "  0.30928775668144226,\n",
              "  0.3265671133995056,\n",
              "  0.34206798672676086,\n",
              "  0.3529025614261627],\n",
              " 'loss': [1.4788552522659302,\n",
              "  1.388339638710022,\n",
              "  1.3367295265197754,\n",
              "  1.2690337896347046,\n",
              "  1.2174395322799683,\n",
              "  1.1887445449829102],\n",
              " 'val_dice_coefficient': [0.04525323212146759,\n",
              "  0.12382768839597702,\n",
              "  0.07725993543863297,\n",
              "  0.27507421374320984,\n",
              "  0.05043715238571167,\n",
              "  0.13931520283222198],\n",
              " 'val_loss': [3.263702869415283,\n",
              "  3.62223482131958,\n",
              "  2.784325122833252,\n",
              "  1.4362335205078125,\n",
              "  3.1427903175354004,\n",
              "  3.029547929763794]}"
            ]
          },
          "metadata": {},
          "execution_count": 37
        }
      ]
    },
    {
      "cell_type": "code",
      "metadata": {
        "colab": {
          "base_uri": "https://localhost:8080/",
          "height": 384
        },
        "id": "btNRkTja8sQQ",
        "outputId": "b4e8c26a-8935-4bf9-ab4a-50f1babb3b7c"
      },
      "source": [
        "print(\"Basic UNET Model\\n\")\n",
        "PlotMetrics(history)"
      ],
      "execution_count": 38,
      "outputs": [
        {
          "output_type": "stream",
          "name": "stdout",
          "text": [
            "Basic UNET Model\n",
            "\n"
          ]
        },
        {
          "output_type": "display_data",
          "data": {
            "image/png": "[encoded data removed]",
            "text/plain": [
              "<Figure size 576x360 with 1 Axes>"
            ]
          },
          "metadata": {
            "needs_background": "light"
          }
        }
      ]
    },
    {
      "cell_type": "code",
      "metadata": {
        "id": "NhCZ_1wh9C9u"
      },
      "source": [
        "# Pickle dump the history dictionary\n",
        "filename = basic_unet_i64_b64_e6_history\n",
        "filehandle = open(filename, \"wb\")\n",
        "pickle.dump(history.history, filehandle)\n",
        "filehandle.close()"
      ],
      "execution_count": 39,
      "outputs": []
    },
    {
      "cell_type": "code",
      "metadata": {
        "id": "FOZXiXn-9Edg"
      },
      "source": [
        "basic_unet_i64_b64_e6_model.load_weights(basic_unet_i64_b64_e6_path)"
      ],
      "execution_count": 40,
      "outputs": []
    },
    {
      "cell_type": "code",
      "metadata": {
        "colab": {
          "base_uri": "https://localhost:8080/",
          "height": 346
        },
        "id": "7HZuZsOz9RtN",
        "outputId": "8b684548-e636-4275-b247-785bcf9b48c0"
      },
      "source": [
        "# Get predictions for Validation dataset and evaluate model performance\n",
        "y_true,y_pred = get_predictions(basic_unet_i64_b64_e6_model, val_df, train_path, input_size=INPUT_SIZE_64)\n",
        "\n",
        "print(\"BASIC UNET MODEL - CONFUSION MATRIX\\n\")\n",
        "print_confusion_matrix(y_true, y_pred)"
      ],
      "execution_count": 41,
      "outputs": [
        {
          "output_type": "stream",
          "name": "stdout",
          "text": [
            "BASIC UNET MODEL - CONFUSION MATRIX\n",
            "\n",
            "Total samples =  2669\n"
          ]
        },
        {
          "output_type": "display_data",
          "data": {
            "image/png": "[encoded data removed]",
            "text/plain": [
              "<Figure size 432x288 with 1 Axes>"
            ]
          },
          "metadata": {}
        }
      ]
    },
    {
      "cell_type": "code",
      "metadata": {
        "colab": {
          "base_uri": "https://localhost:8080/"
        },
        "id": "-Hn4S2uW9gyO",
        "outputId": "3d3e7304-5fbf-43b8-a22b-d868a9dbc310"
      },
      "source": [
        "print(\"BASIC UNET MODEL : CLASSIFICATION REPORT\\n\")\n",
        "print(classification_report(y_true, y_pred))"
      ],
      "execution_count": 42,
      "outputs": [
        {
          "output_type": "stream",
          "name": "stdout",
          "text": [
            "BASIC UNET MODEL : CLASSIFICATION REPORT\n",
            "\n",
            "              precision    recall  f1-score   support\n",
            "\n",
            "           0       0.92      0.62      0.74      2068\n",
            "           1       0.38      0.81      0.52       601\n",
            "\n",
            "    accuracy                           0.66      2669\n",
            "   macro avg       0.65      0.71      0.63      2669\n",
            "weighted avg       0.80      0.66      0.69      2669\n",
            "\n"
          ]
        }
      ]
    },
    {
      "cell_type": "code",
      "metadata": {
        "id": "MtDC_E1W9hu9"
      },
      "source": [
        "# Pickle dump the report dictionary\n",
        "report = classification_report(y_true, y_pred, output_dict=True)\n",
        "filename = basic_unet_i64_b64_e6_creport\n",
        "filehandle = open(filename, \"wb\")\n",
        "pickle.dump(report, filehandle)\n",
        "filehandle.close()"
      ],
      "execution_count": 43,
      "outputs": []
    },
    {
      "cell_type": "code",
      "metadata": {
        "id": "X8tG83209mCF"
      },
      "source": [
        "# load the best weights and save using model.save to make sure the model can be retrieved later\n",
        "best_weights = basic_unet_i64_b64_e6_path\n",
        "basic_unet_i64_b64_e6_model.load_weights(best_weights)\n",
        "best_model_path  = basic_unet_i64_b64_e6_model_path\n",
        "basic_unet_i64_b64_e6_model.save(best_model_path)"
      ],
      "execution_count": 44,
      "outputs": []
    },
    {
      "cell_type": "code",
      "metadata": {
        "colab": {
          "base_uri": "https://localhost:8080/",
          "height": 654
        },
        "id": "3oa17MM3X4VT",
        "outputId": "ccc16b30-4476-44de-e587-c13e7bbf8155"
      },
      "source": [
        "plt.figure(figsize=(20,10))\n",
        "fpri,tpri,_=roc_curve(y_true,y_pred[:len(y_true)])\n",
        "area_under_curvei=auc(fpri,tpri)\n",
        "print('The area under the curve is:',area_under_curvei)\n",
        "# Plot area under curve\n",
        "plt.plot(fpri,tpri,'b.-')\n",
        "plt.xlabel('false positive rate')\n",
        "plt.ylabel('true positive rate')\n",
        "plt.plot(fpri,fpri,linestyle='--',color='black')"
      ],
      "execution_count": 47,
      "outputs": [
        {
          "output_type": "stream",
          "name": "stdout",
          "text": [
            "The area under the curve is: 0.7135906628861632\n"
          ]
        },
        {
          "output_type": "execute_result",
          "data": {
            "text/plain": [
              "[<matplotlib.lines.Line2D at 0x7f61b02ca750>]"
            ]
          },
          "metadata": {},
          "execution_count": 47
        },
        {
          "output_type": "display_data",
          "data": {
            "image/png": "[encoded data removed]",
            "text/plain": [
              "<Figure size 1440x720 with 1 Axes>"
            ]
          },
          "metadata": {
            "needs_background": "light"
          }
        }
      ]
    }
  ]
}